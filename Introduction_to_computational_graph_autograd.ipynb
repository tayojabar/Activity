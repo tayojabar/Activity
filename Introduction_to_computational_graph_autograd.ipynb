{
  "nbformat": 4,
  "nbformat_minor": 0,
  "metadata": {
    "colab": {
      "name": "Introduction_to_computational_graph_autograd.ipynb",
      "version": "0.3.2",
      "provenance": [],
      "collapsed_sections": [
        "7uAQ2tYgPYsy"
      ]
    },
    "kernelspec": {
      "name": "python3",
      "display_name": "Python 3"
    }
  },
  "cells": [
    {
      "cell_type": "markdown",
      "metadata": {
        "id": "view-in-github",
        "colab_type": "text"
      },
      "source": [
        "[View in Colaboratory](https://colab.research.google.com/github/tayojabar/Activity/blob/master/Introduction_to_computational_graph_autograd.ipynb)"
      ]
    },
    {
      "metadata": {
        "id": "zLHQx_UixR6i",
        "colab_type": "text"
      },
      "cell_type": "markdown",
      "source": [
        "# **Installation of PyTorch**"
      ]
    },
    {
      "metadata": {
        "id": "g6C60ERkIx9j",
        "colab_type": "text"
      },
      "cell_type": "markdown",
      "source": [
        "All the best \n"
      ]
    },
    {
      "metadata": {
        "id": "6f2UH8-zxbUD",
        "colab_type": "code",
        "colab": {}
      },
      "cell_type": "code",
      "source": [
        "# Bookkeeping\n",
        "# http://pytorch.org/\n",
        "from os import path\n",
        "from wheel.pep425tags import get_abbr_impl, get_impl_ver, get_abi_tag\n",
        "platform = '{}{}-{}'.format(get_abbr_impl(), get_impl_ver(), get_abi_tag())\n",
        "\n",
        "accelerator = 'cu80' if path.exists('/opt/bin/nvidia-smi') else 'cpu'\n",
        "\n",
        "!pip install -q http://download.pytorch.org/whl/{accelerator}/torch-0.3.0.post4-{platform}-linux_x86_64.whl torchvision\n"
      ],
      "execution_count": 0,
      "outputs": []
    },
    {
      "metadata": {
        "id": "GUVUWAcJOf4c",
        "colab_type": "code",
        "colab": {}
      },
      "cell_type": "code",
      "source": [
        "import torch "
      ],
      "execution_count": 0,
      "outputs": []
    },
    {
      "metadata": {
        "id": "zheSZMFMO6Sq",
        "colab_type": "text"
      },
      "cell_type": "markdown",
      "source": [
        "# 1 Creating a matrix with numpy vs pytorch\n",
        "create an array by passing a list argument.\n",
        "Array is made up of \"nested list\"."
      ]
    },
    {
      "metadata": {
        "id": "blYy9BEdGdpI",
        "colab_type": "code",
        "colab": {
          "base_uri": "https://localhost:8080/",
          "height": 50
        },
        "outputId": "5b664155-ecd6-464a-a1f6-6f656694dfba"
      },
      "cell_type": "code",
      "source": [
        "a_list = [1,2]\n",
        "b_list = [3,4]\n",
        "print(a_list)\n",
        "print(b_list)"
      ],
      "execution_count": 71,
      "outputs": [
        {
          "output_type": "stream",
          "text": [
            "[1, 2]\n",
            "[3, 4]\n"
          ],
          "name": "stdout"
        }
      ]
    },
    {
      "metadata": {
        "id": "GQtJddheJlvJ",
        "colab_type": "text"
      },
      "cell_type": "markdown",
      "source": [
        "its fine  😊😊😊😊\n"
      ]
    },
    {
      "metadata": {
        "id": "h1qx9kOoHrPm",
        "colab_type": "code",
        "colab": {
          "base_uri": "https://localhost:8080/",
          "height": 34
        },
        "outputId": "047438cd-578a-48db-fbfe-5b1c738dcfec"
      },
      "cell_type": "code",
      "source": [
        "array = [a_list,b_list]\n",
        "print(array)"
      ],
      "execution_count": 72,
      "outputs": [
        {
          "output_type": "stream",
          "text": [
            "[[1, 2], [3, 4]]\n"
          ],
          "name": "stdout"
        }
      ]
    },
    {
      "metadata": {
        "id": "cdYyBZ3uOrRe",
        "colab_type": "code",
        "colab": {
          "base_uri": "https://localhost:8080/",
          "height": 34
        },
        "outputId": "7c059fb9-aa01-44d4-8616-26ef13631b80"
      },
      "cell_type": "code",
      "source": [
        "a = [[1,2],[3,4]]\n",
        "print(a)"
      ],
      "execution_count": 73,
      "outputs": [
        {
          "output_type": "stream",
          "text": [
            "[[1, 2], [3, 4]]\n"
          ],
          "name": "stdout"
        }
      ]
    },
    {
      "metadata": {
        "id": "XeOyTPd0QH48",
        "colab_type": "code",
        "colab": {
          "base_uri": "https://localhost:8080/",
          "height": 34
        },
        "outputId": "17e14729-5fb7-4ab5-b8f1-be1d3d571f4f"
      },
      "cell_type": "code",
      "source": [
        "type(a)"
      ],
      "execution_count": 74,
      "outputs": [
        {
          "output_type": "execute_result",
          "data": {
            "text/plain": [
              "list"
            ]
          },
          "metadata": {
            "tags": []
          },
          "execution_count": 74
        }
      ]
    },
    {
      "metadata": {
        "id": "IkpZ1Cv2QpKq",
        "colab_type": "code",
        "colab": {}
      },
      "cell_type": "code",
      "source": [
        "#print(a.shape) #Not an array, hence no shape"
      ],
      "execution_count": 0,
      "outputs": []
    },
    {
      "metadata": {
        "id": "9Wx7vG60RMiC",
        "colab_type": "text"
      },
      "cell_type": "markdown",
      "source": [
        "**Create an array**"
      ]
    },
    {
      "metadata": {
        "id": "acIjpOAmGh5o",
        "colab_type": "code",
        "colab": {}
      },
      "cell_type": "code",
      "source": [
        "# import Numpy library\n",
        "import numpy as np"
      ],
      "execution_count": 0,
      "outputs": []
    },
    {
      "metadata": {
        "id": "fQWJuy_mOgB4",
        "colab_type": "code",
        "colab": {
          "base_uri": "https://localhost:8080/",
          "height": 50
        },
        "outputId": "db217c18-821b-4653-fb06-651904aea9e6"
      },
      "cell_type": "code",
      "source": [
        "Da_array = np.array(a)  #N-dimensional array\n",
        "#Task print array\n",
        "print(a_array)"
      ],
      "execution_count": 77,
      "outputs": [
        {
          "output_type": "stream",
          "text": [
            "[[1 2]\n",
            " [3 4]]\n"
          ],
          "name": "stdout"
        }
      ]
    },
    {
      "metadata": {
        "id": "DBOchlxDIWJm",
        "colab_type": "code",
        "colab": {
          "base_uri": "https://localhost:8080/",
          "height": 101
        },
        "outputId": "3f677b10-df14-4795-aea9-3d9b5b0dabf2"
      },
      "cell_type": "code",
      "source": [
        "# Convert to PyTorch Tensor\n",
        "T_array = torch.Tensor(a_array)\n",
        "#Task print array\n",
        "print(T_array)"
      ],
      "execution_count": 78,
      "outputs": [
        {
          "output_type": "stream",
          "text": [
            "\n",
            " 1  2\n",
            " 3  4\n",
            "[torch.FloatTensor of size 2x2]\n",
            "\n"
          ],
          "name": "stdout"
        }
      ]
    },
    {
      "metadata": {
        "id": "2IOi0A88OgNl",
        "colab_type": "code",
        "colab": {
          "base_uri": "https://localhost:8080/",
          "height": 50
        },
        "outputId": "cffdee2b-8e29-4819-99b9-33c4c2f774ea"
      },
      "cell_type": "code",
      "source": [
        "print(type(a_array)) # N-dimensional arrays\"because they can have any number of dimensions.\"\n",
        "print(a_array.dtype) # Datatype of array"
      ],
      "execution_count": 79,
      "outputs": [
        {
          "output_type": "stream",
          "text": [
            "<class 'numpy.ndarray'>\n",
            "int64\n"
          ],
          "name": "stdout"
        }
      ]
    },
    {
      "metadata": {
        "id": "DiFUpWVbOgSB",
        "colab_type": "code",
        "colab": {
          "base_uri": "https://localhost:8080/",
          "height": 34
        },
        "outputId": "10cb7a78-2d98-4649-932f-12940e4d912c"
      },
      "cell_type": "code",
      "source": [
        "print(a_array.shape)"
      ],
      "execution_count": 80,
      "outputs": [
        {
          "output_type": "stream",
          "text": [
            "(2, 2)\n"
          ],
          "name": "stdout"
        }
      ]
    },
    {
      "metadata": {
        "id": "pDZ4kZyrKk7S",
        "colab_type": "text"
      },
      "cell_type": "markdown",
      "source": [
        "**Others**"
      ]
    },
    {
      "metadata": {
        "id": "rftudTrAKhv5",
        "colab_type": "code",
        "colab": {
          "base_uri": "https://localhost:8080/",
          "height": 50
        },
        "outputId": "a24c33f0-4cc4-41cd-d936-cf0a7cbe060f"
      },
      "cell_type": "code",
      "source": [
        "np.ones((2,2))"
      ],
      "execution_count": 81,
      "outputs": [
        {
          "output_type": "execute_result",
          "data": {
            "text/plain": [
              "array([[1., 1.],\n",
              "       [1., 1.]])"
            ]
          },
          "metadata": {
            "tags": []
          },
          "execution_count": 81
        }
      ]
    },
    {
      "metadata": {
        "id": "-CPiV0W3Kh4x",
        "colab_type": "code",
        "colab": {
          "base_uri": "https://localhost:8080/",
          "height": 84
        },
        "outputId": "47471ae2-a1fb-4c56-aa02-9562a9a90834"
      },
      "cell_type": "code",
      "source": [
        "torch.ones((2,2))"
      ],
      "execution_count": 82,
      "outputs": [
        {
          "output_type": "execute_result",
          "data": {
            "text/plain": [
              "\n",
              " 1  1\n",
              " 1  1\n",
              "[torch.FloatTensor of size 2x2]"
            ]
          },
          "metadata": {
            "tags": []
          },
          "execution_count": 82
        }
      ]
    },
    {
      "metadata": {
        "id": "5ZAhCglmKiDa",
        "colab_type": "code",
        "colab": {
          "base_uri": "https://localhost:8080/",
          "height": 50
        },
        "outputId": "82b88946-bc2a-4c88-9a2f-3b6d9cb3cb21"
      },
      "cell_type": "code",
      "source": [
        "np.random.rand(2,2)"
      ],
      "execution_count": 83,
      "outputs": [
        {
          "output_type": "execute_result",
          "data": {
            "text/plain": [
              "array([[0.96366276, 0.38344152],\n",
              "       [0.79172504, 0.52889492]])"
            ]
          },
          "metadata": {
            "tags": []
          },
          "execution_count": 83
        }
      ]
    },
    {
      "metadata": {
        "id": "vud5mKs3K8tt",
        "colab_type": "code",
        "colab": {
          "base_uri": "https://localhost:8080/",
          "height": 84
        },
        "outputId": "cee6da10-c887-4cf0-bb3b-a936213d2493"
      },
      "cell_type": "code",
      "source": [
        "torch.rand(2,2)"
      ],
      "execution_count": 84,
      "outputs": [
        {
          "output_type": "execute_result",
          "data": {
            "text/plain": [
              "\n",
              " 0.3074  0.6341\n",
              " 0.4901  0.8964\n",
              "[torch.FloatTensor of size 2x2]"
            ]
          },
          "metadata": {
            "tags": []
          },
          "execution_count": 84
        }
      ]
    },
    {
      "metadata": {
        "id": "8Kz8O-0HLLvY",
        "colab_type": "text"
      },
      "cell_type": "markdown",
      "source": [
        "**Seed for Reproducibility**: replication of exact result across experiments.\n"
      ]
    },
    {
      "metadata": {
        "id": "L3lfQjjSLCLf",
        "colab_type": "code",
        "colab": {
          "base_uri": "https://localhost:8080/",
          "height": 50
        },
        "outputId": "7aeaae04-e990-477e-a6d8-2b321ac9741b"
      },
      "cell_type": "code",
      "source": [
        "np.random.seed(0) # 0,1,2,3......\n",
        "np.random.rand(2,2)"
      ],
      "execution_count": 85,
      "outputs": [
        {
          "output_type": "execute_result",
          "data": {
            "text/plain": [
              "array([[0.5488135 , 0.71518937],\n",
              "       [0.60276338, 0.54488318]])"
            ]
          },
          "metadata": {
            "tags": []
          },
          "execution_count": 85
        }
      ]
    },
    {
      "metadata": {
        "id": "3UweDvt1LatU",
        "colab_type": "code",
        "colab": {
          "base_uri": "https://localhost:8080/",
          "height": 50
        },
        "outputId": "d0b1d3e4-16c4-49fa-be22-7061ce1fcd35"
      },
      "cell_type": "code",
      "source": [
        "# Seed\n",
        "np.random.seed(0)\n",
        "np.random.rand(2,2)"
      ],
      "execution_count": 86,
      "outputs": [
        {
          "output_type": "execute_result",
          "data": {
            "text/plain": [
              "array([[0.5488135 , 0.71518937],\n",
              "       [0.60276338, 0.54488318]])"
            ]
          },
          "metadata": {
            "tags": []
          },
          "execution_count": 86
        }
      ]
    },
    {
      "metadata": {
        "id": "shbzYU6vLa2f",
        "colab_type": "code",
        "colab": {
          "base_uri": "https://localhost:8080/",
          "height": 50
        },
        "outputId": "90b83725-f637-47de-b653-d60959dba1ea"
      },
      "cell_type": "code",
      "source": [
        "# No seed\n",
        "#np.random.seed(0)\n",
        "np.random.rand(2,2)"
      ],
      "execution_count": 87,
      "outputs": [
        {
          "output_type": "execute_result",
          "data": {
            "text/plain": [
              "array([[0.4236548 , 0.64589411],\n",
              "       [0.43758721, 0.891773  ]])"
            ]
          },
          "metadata": {
            "tags": []
          },
          "execution_count": 87
        }
      ]
    },
    {
      "metadata": {
        "id": "MC4BwqF2L5-6",
        "colab_type": "code",
        "colab": {
          "base_uri": "https://localhost:8080/",
          "height": 84
        },
        "outputId": "52246d01-0364-432e-c4c1-4319c4e61927"
      },
      "cell_type": "code",
      "source": [
        "# Torch Seed\n",
        "torch.manual_seed(0)\n",
        "torch.rand(2,2)"
      ],
      "execution_count": 88,
      "outputs": [
        {
          "output_type": "execute_result",
          "data": {
            "text/plain": [
              "\n",
              " 0.4963  0.7682\n",
              " 0.0885  0.1320\n",
              "[torch.FloatTensor of size 2x2]"
            ]
          },
          "metadata": {
            "tags": []
          },
          "execution_count": 88
        }
      ]
    },
    {
      "metadata": {
        "id": "zc-7OpBex4Bv",
        "colab_type": "code",
        "colab": {
          "base_uri": "https://localhost:8080/",
          "height": 84
        },
        "outputId": "d088e9a8-f852-4e68-8f94-c3f340c6537c"
      },
      "cell_type": "code",
      "source": [
        "# Torch Seed\n",
        "torch.manual_seed(0)\n",
        "torch.rand(2,2)"
      ],
      "execution_count": 89,
      "outputs": [
        {
          "output_type": "execute_result",
          "data": {
            "text/plain": [
              "\n",
              " 0.4963  0.7682\n",
              " 0.0885  0.1320\n",
              "[torch.FloatTensor of size 2x2]"
            ]
          },
          "metadata": {
            "tags": []
          },
          "execution_count": 89
        }
      ]
    },
    {
      "metadata": {
        "id": "X8pgfWnDMv8n",
        "colab_type": "text"
      },
      "cell_type": "markdown",
      "source": [
        "**Linking Numpy with Torch**"
      ]
    },
    {
      "metadata": {
        "id": "Fa1rtHKhL6In",
        "colab_type": "code",
        "colab": {
          "base_uri": "https://localhost:8080/",
          "height": 50
        },
        "outputId": "dfe54d22-3c40-4012-aa29-1f777e016121"
      },
      "cell_type": "code",
      "source": [
        "# Numpy array\n",
        "np_array = np.ones((2,2))\n",
        "#Task print\n",
        "print(np_array)"
      ],
      "execution_count": 90,
      "outputs": [
        {
          "output_type": "stream",
          "text": [
            "[[1. 1.]\n",
            " [1. 1.]]\n"
          ],
          "name": "stdout"
        }
      ]
    },
    {
      "metadata": {
        "id": "ZzBwfYe7MuD_",
        "colab_type": "code",
        "colab": {
          "base_uri": "https://localhost:8080/",
          "height": 101
        },
        "outputId": "95a6e03a-d1a2-4934-d1e5-9efa7efde656"
      },
      "cell_type": "code",
      "source": [
        "# Convert to Torch Tensor \n",
        "torch_tensor = torch.from_numpy(np_array)\n",
        "print(torch_tensor)"
      ],
      "execution_count": 91,
      "outputs": [
        {
          "output_type": "stream",
          "text": [
            "\n",
            " 1  1\n",
            " 1  1\n",
            "[torch.DoubleTensor of size 2x2]\n",
            "\n"
          ],
          "name": "stdout"
        }
      ]
    },
    {
      "metadata": {
        "id": "qyGvsrtpNWD9",
        "colab_type": "code",
        "colab": {
          "base_uri": "https://localhost:8080/",
          "height": 34
        },
        "outputId": "3b9d8b0c-77d3-47e3-b496-a4a0f915af31"
      },
      "cell_type": "code",
      "source": [
        "print(type(torch_tensor))"
      ],
      "execution_count": 92,
      "outputs": [
        {
          "output_type": "stream",
          "text": [
            "<class 'torch.DoubleTensor'>\n"
          ],
          "name": "stdout"
        }
      ]
    },
    {
      "metadata": {
        "id": "dMoOYD0GOZDC",
        "colab_type": "code",
        "colab": {
          "base_uri": "https://localhost:8080/",
          "height": 34
        },
        "outputId": "b0667192-34c1-4422-924d-5060a26b167d"
      },
      "cell_type": "code",
      "source": [
        "# Testing datatype\n",
        "#test_arr_datatype = np.ones((2,2), dtype=np.int8) # try int32\n",
        "test_arr_datatype = np.ones((2,2)) # try int32\n",
        "# Task: convert to torch tensor\n",
        "#help(np.ones((2,2)))\n",
        "print(type(test_arr_datatype))\n"
      ],
      "execution_count": 115,
      "outputs": [
        {
          "output_type": "stream",
          "text": [
            "<class 'numpy.ndarray'>\n"
          ],
          "name": "stdout"
        }
      ]
    },
    {
      "metadata": {
        "id": "mt9R_W5uNwOP",
        "colab_type": "text"
      },
      "cell_type": "markdown",
      "source": [
        "Torch cannot convert **all kind of numpy** to Tensor. Approved datatype \n",
        "\n",
        "\n",
        "*   double\n",
        "\n",
        "\n",
        "*   float\n",
        "\n",
        "*   int64\n",
        "*   uint8\n",
        "\n",
        "\n",
        "*   int32\n"
      ]
    },
    {
      "metadata": {
        "id": "7uAQ2tYgPYsy",
        "colab_type": "text"
      },
      "cell_type": "markdown",
      "source": [
        "# **Torch to Numpy**"
      ]
    },
    {
      "metadata": {
        "id": "Re3hYan3NWKN",
        "colab_type": "code",
        "colab": {
          "base_uri": "https://localhost:8080/",
          "height": 118
        },
        "outputId": "6d977faa-a77b-4010-9955-af8f80860e74"
      },
      "cell_type": "code",
      "source": [
        "torch_tensor = torch.ones((3,3))\n",
        "# Task print\n",
        "\n",
        "print(torch_tensor)"
      ],
      "execution_count": 94,
      "outputs": [
        {
          "output_type": "stream",
          "text": [
            "\n",
            " 1  1  1\n",
            " 1  1  1\n",
            " 1  1  1\n",
            "[torch.FloatTensor of size 3x3]\n",
            "\n"
          ],
          "name": "stdout"
        }
      ]
    },
    {
      "metadata": {
        "id": "5-tUvKZ0NiDc",
        "colab_type": "code",
        "colab": {
          "base_uri": "https://localhost:8080/",
          "height": 34
        },
        "outputId": "3e70ea84-6c0b-4ae4-84b6-d29eefaf4f40"
      },
      "cell_type": "code",
      "source": [
        "type(torch_tensor)"
      ],
      "execution_count": 95,
      "outputs": [
        {
          "output_type": "execute_result",
          "data": {
            "text/plain": [
              "torch.FloatTensor"
            ]
          },
          "metadata": {
            "tags": []
          },
          "execution_count": 95
        }
      ]
    },
    {
      "metadata": {
        "id": "IgDXnH7oNiKL",
        "colab_type": "code",
        "colab": {
          "base_uri": "https://localhost:8080/",
          "height": 84
        },
        "outputId": "7874747c-77d3-4d7e-92ca-00b9df2b04b3"
      },
      "cell_type": "code",
      "source": [
        "#convertion\n",
        "torch_to_numpy = torch_tensor.numpy()\n",
        "#Task print(type)\n",
        "print(type(torch_to_numpy))\n",
        "print(torch_to_numpy)"
      ],
      "execution_count": 96,
      "outputs": [
        {
          "output_type": "stream",
          "text": [
            "<class 'numpy.ndarray'>\n",
            "[[1. 1. 1.]\n",
            " [1. 1. 1.]\n",
            " [1. 1. 1.]]\n"
          ],
          "name": "stdout"
        }
      ]
    },
    {
      "metadata": {
        "id": "TqwIXWgnScoX",
        "colab_type": "text"
      },
      "cell_type": "markdown",
      "source": [
        "**Slicing**"
      ]
    },
    {
      "metadata": {
        "id": "rji2xRVdOgVi",
        "colab_type": "code",
        "colab": {
          "base_uri": "https://localhost:8080/",
          "height": 34
        },
        "outputId": "91120942-1b5f-41ef-b980-8b10c5fe4b20"
      },
      "cell_type": "code",
      "source": [
        "a"
      ],
      "execution_count": 97,
      "outputs": [
        {
          "output_type": "execute_result",
          "data": {
            "text/plain": [
              "[[1, 2], [3, 4]]"
            ]
          },
          "metadata": {
            "tags": []
          },
          "execution_count": 97
        }
      ]
    },
    {
      "metadata": {
        "id": "87-AfPEAzr5R",
        "colab_type": "code",
        "colab": {}
      },
      "cell_type": "code",
      "source": [
        ""
      ],
      "execution_count": 0,
      "outputs": []
    },
    {
      "metadata": {
        "id": "9OcepsZFOgZ2",
        "colab_type": "code",
        "colab": {
          "base_uri": "https://localhost:8080/",
          "height": 34
        },
        "outputId": "657cfb67-487b-4966-f16a-eaddacf88e68"
      },
      "cell_type": "code",
      "source": [
        "print(a[0])"
      ],
      "execution_count": 98,
      "outputs": [
        {
          "output_type": "stream",
          "text": [
            "[1, 2]\n"
          ],
          "name": "stdout"
        }
      ]
    },
    {
      "metadata": {
        "id": "bNNEeroROgdi",
        "colab_type": "code",
        "colab": {
          "base_uri": "https://localhost:8080/",
          "height": 34
        },
        "outputId": "3892e088-b2c3-4c13-cefa-3e4485dea73a"
      },
      "cell_type": "code",
      "source": [
        "print(a[1])"
      ],
      "execution_count": 99,
      "outputs": [
        {
          "output_type": "stream",
          "text": [
            "[3, 4]\n"
          ],
          "name": "stdout"
        }
      ]
    },
    {
      "metadata": {
        "id": "WDrt3_06Ogha",
        "colab_type": "code",
        "colab": {
          "base_uri": "https://localhost:8080/",
          "height": 34
        },
        "outputId": "3ba606e9-a51c-4298-fc0e-54a0b881b82e"
      },
      "cell_type": "code",
      "source": [
        "print(a[0][1])"
      ],
      "execution_count": 100,
      "outputs": [
        {
          "output_type": "stream",
          "text": [
            "2\n"
          ],
          "name": "stdout"
        }
      ]
    },
    {
      "metadata": {
        "id": "82U05PrBOgkp",
        "colab_type": "code",
        "colab": {}
      },
      "cell_type": "code",
      "source": [
        "nums = list(range(5))  # Prints \"[0, 1, 2, 3, 4]\""
      ],
      "execution_count": 0,
      "outputs": []
    },
    {
      "metadata": {
        "id": "QxXZb6W9Ogo8",
        "colab_type": "code",
        "colab": {
          "base_uri": "https://localhost:8080/",
          "height": 34
        },
        "outputId": "92b1d6e0-48cc-4e35-9b08-badd5fa0b3d2"
      },
      "cell_type": "code",
      "source": [
        "nums"
      ],
      "execution_count": 102,
      "outputs": [
        {
          "output_type": "execute_result",
          "data": {
            "text/plain": [
              "[0, 1, 2, 3, 4]"
            ]
          },
          "metadata": {
            "tags": []
          },
          "execution_count": 102
        }
      ]
    },
    {
      "metadata": {
        "id": "WOarV63RTTmO",
        "colab_type": "code",
        "colab": {
          "base_uri": "https://localhost:8080/",
          "height": 34
        },
        "outputId": "91c41838-1037-4cf9-a0f2-35d4d397363b"
      },
      "cell_type": "code",
      "source": [
        "print(nums[2:4])  # Get a slice from index 2 to 4 (exclusive); prints \"[2, 3]\""
      ],
      "execution_count": 103,
      "outputs": [
        {
          "output_type": "stream",
          "text": [
            "[2, 3]\n"
          ],
          "name": "stdout"
        }
      ]
    },
    {
      "metadata": {
        "id": "2QATM0Z8TTu4",
        "colab_type": "code",
        "colab": {
          "base_uri": "https://localhost:8080/",
          "height": 34
        },
        "outputId": "b852172f-8d2f-405a-9432-5cc09ff522a7"
      },
      "cell_type": "code",
      "source": [
        "print(nums[2:]) # Get a slice from index 2 to the end; prints \"[2, 3, 4]\""
      ],
      "execution_count": 104,
      "outputs": [
        {
          "output_type": "stream",
          "text": [
            "[2, 3, 4]\n"
          ],
          "name": "stdout"
        }
      ]
    },
    {
      "metadata": {
        "id": "jEkHzHrzTT2p",
        "colab_type": "code",
        "colab": {
          "base_uri": "https://localhost:8080/",
          "height": 34
        },
        "outputId": "bb140088-354b-4fd7-ba33-45b2c1ce1255"
      },
      "cell_type": "code",
      "source": [
        "print(nums[:2])           # Get a slice from the start to index 2 (exclusive); prints \"[0, 1]\""
      ],
      "execution_count": 105,
      "outputs": [
        {
          "output_type": "stream",
          "text": [
            "[0, 1]\n"
          ],
          "name": "stdout"
        }
      ]
    },
    {
      "metadata": {
        "id": "gzTaL0IxTzMU",
        "colab_type": "code",
        "colab": {
          "base_uri": "https://localhost:8080/",
          "height": 34
        },
        "outputId": "959a2808-2b7c-4e02-8125-e25e43797868"
      },
      "cell_type": "code",
      "source": [
        "print(nums[:])            # Get a slice of the whole list; prints \"[0, 1, 2, 3, 4]\""
      ],
      "execution_count": 106,
      "outputs": [
        {
          "output_type": "stream",
          "text": [
            "[0, 1, 2, 3, 4]\n"
          ],
          "name": "stdout"
        }
      ]
    },
    {
      "metadata": {
        "id": "6NsnT2iKTzT7",
        "colab_type": "code",
        "colab": {
          "base_uri": "https://localhost:8080/",
          "height": 34
        },
        "outputId": "93a27562-ff8c-4505-cb9e-2de37541c7ba"
      },
      "cell_type": "code",
      "source": [
        "print(nums[:-1])          # Slice indices can be negative; prints \"[0, 1, 2, 3]\""
      ],
      "execution_count": 107,
      "outputs": [
        {
          "output_type": "stream",
          "text": [
            "[0, 1, 2, 3]\n"
          ],
          "name": "stdout"
        }
      ]
    },
    {
      "metadata": {
        "id": "Ewa8JuV5TzcE",
        "colab_type": "code",
        "colab": {}
      },
      "cell_type": "code",
      "source": [
        "nums[2:4] = [8, 9]        # Assign a new sublist to a slice"
      ],
      "execution_count": 0,
      "outputs": []
    },
    {
      "metadata": {
        "id": "iHmc53cAUHsi",
        "colab_type": "text"
      },
      "cell_type": "markdown",
      "source": [
        "**Matrix of operations**"
      ]
    },
    {
      "metadata": {
        "id": "ej8oXgQtUSKf",
        "colab_type": "code",
        "colab": {
          "base_uri": "https://localhost:8080/",
          "height": 50
        },
        "outputId": "0ce96d37-d66d-4c1b-e400-86a0c0f0b780"
      },
      "cell_type": "code",
      "source": [
        "x = np.array([[1,2],[3,4]], dtype=np.float64)\n",
        "y = np.array([[5,6],[7,8]], dtype=np.float64)\n",
        "print(x)"
      ],
      "execution_count": 109,
      "outputs": [
        {
          "output_type": "stream",
          "text": [
            "[[1. 2.]\n",
            " [3. 4.]]\n"
          ],
          "name": "stdout"
        }
      ]
    },
    {
      "metadata": {
        "id": "UKFdg4uc0KrG",
        "colab_type": "code",
        "colab": {
          "base_uri": "https://localhost:8080/",
          "height": 50
        },
        "outputId": "72833416-930a-47ed-f9df-24416f1c02b8"
      },
      "cell_type": "code",
      "source": [
        "print(y)"
      ],
      "execution_count": 110,
      "outputs": [
        {
          "output_type": "stream",
          "text": [
            "[[5. 6.]\n",
            " [7. 8.]]\n"
          ],
          "name": "stdout"
        }
      ]
    },
    {
      "metadata": {
        "id": "pYuCCnEBUSWL",
        "colab_type": "code",
        "colab": {
          "base_uri": "https://localhost:8080/",
          "height": 50
        },
        "outputId": "221a5dd8-402a-40c6-c7de-b3573f84c758"
      },
      "cell_type": "code",
      "source": [
        "print(x + y) # or print(np.add(x,y))"
      ],
      "execution_count": 111,
      "outputs": [
        {
          "output_type": "stream",
          "text": [
            "[[ 6.  8.]\n",
            " [10. 12.]]\n"
          ],
          "name": "stdout"
        }
      ]
    },
    {
      "metadata": {
        "id": "SfC3bMasUSb1",
        "colab_type": "code",
        "colab": {
          "base_uri": "https://localhost:8080/",
          "height": 50
        },
        "outputId": "69dd3c88-19d5-4397-8952-f79e17b7ef9d"
      },
      "cell_type": "code",
      "source": [
        "print(x - y) # or print(np.subtract(x,y))"
      ],
      "execution_count": 112,
      "outputs": [
        {
          "output_type": "stream",
          "text": [
            "[[-4. -4.]\n",
            " [-4. -4.]]\n"
          ],
          "name": "stdout"
        }
      ]
    },
    {
      "metadata": {
        "id": "pd67I9h5V4Sk",
        "colab_type": "code",
        "colab": {
          "base_uri": "https://localhost:8080/",
          "height": 50
        },
        "outputId": "546d2629-051b-47c3-c700-daf8041e6c30"
      },
      "cell_type": "code",
      "source": [
        "print(x * y) # or print(np.multiply(x, y))"
      ],
      "execution_count": 113,
      "outputs": [
        {
          "output_type": "stream",
          "text": [
            "[[ 5. 12.]\n",
            " [21. 32.]]\n"
          ],
          "name": "stdout"
        }
      ]
    },
    {
      "metadata": {
        "id": "NR481A37V4ji",
        "colab_type": "code",
        "colab": {
          "base_uri": "https://localhost:8080/",
          "height": 50
        },
        "outputId": "53863c2a-ef7d-42cd-f4f7-fe028abcbbcd"
      },
      "cell_type": "code",
      "source": [
        "print( x / y) # or print(np.multiply(x, y))"
      ],
      "execution_count": 114,
      "outputs": [
        {
          "output_type": "stream",
          "text": [
            "[[0.2        0.33333333]\n",
            " [0.42857143 0.5       ]]\n"
          ],
          "name": "stdout"
        }
      ]
    },
    {
      "metadata": {
        "id": "840wvrAIWOqb",
        "colab_type": "code",
        "colab": {
          "base_uri": "https://localhost:8080/",
          "height": 50
        },
        "outputId": "dc841821-748e-4945-c360-1b13d5e794e4"
      },
      "cell_type": "code",
      "source": [
        "print(np.sqrt(x))"
      ],
      "execution_count": 48,
      "outputs": [
        {
          "output_type": "stream",
          "text": [
            "[[1.         1.41421356]\n",
            " [1.73205081 2.        ]]\n"
          ],
          "name": "stdout"
        }
      ]
    },
    {
      "metadata": {
        "id": "Jmv2DxeQWbhE",
        "colab_type": "text"
      },
      "cell_type": "markdown",
      "source": [
        "# **Broadcasting** \n",
        "The term ‘broadcasting’ refers to the property of NumPy module which comes into play when doing arithmetic operations on the arrays and matrices.\n",
        "NumPy broadcasting lets you perform, in efficient way, element-wise operations on arrays, as long as dimensions of those arrays are considered \"**compatible\"** in some sense.\n",
        "\n",
        "![alt text](https://i.stack.imgur.com/JcKv1.png)"
      ]
    },
    {
      "metadata": {
        "id": "R_iHY4e1Wai-",
        "colab_type": "code",
        "colab": {
          "base_uri": "https://localhost:8080/",
          "height": 34
        },
        "outputId": "cb671564-fc6a-4dac-ada6-e2410deba137"
      },
      "cell_type": "code",
      "source": [
        "x = np.array([0,10,20,30])\n",
        "print(x)"
      ],
      "execution_count": 49,
      "outputs": [
        {
          "output_type": "stream",
          "text": [
            "[ 0 10 20 30]\n"
          ],
          "name": "stdout"
        }
      ]
    },
    {
      "metadata": {
        "id": "GSJGZwh7wPT4",
        "colab_type": "code",
        "colab": {
          "base_uri": "https://localhost:8080/",
          "height": 101
        },
        "outputId": "2fa2c6a5-a006-45c2-bbdd-4bd4c1f13638"
      },
      "cell_type": "code",
      "source": [
        "x = np.reshape(x, (len(x),1))\n",
        "print(x)\n",
        "print(x.shape)"
      ],
      "execution_count": 50,
      "outputs": [
        {
          "output_type": "stream",
          "text": [
            "[[ 0]\n",
            " [10]\n",
            " [20]\n",
            " [30]]\n",
            "(4, 1)\n"
          ],
          "name": "stdout"
        }
      ]
    },
    {
      "metadata": {
        "id": "J6Qn1_sxwADg",
        "colab_type": "code",
        "colab": {
          "base_uri": "https://localhost:8080/",
          "height": 50
        },
        "outputId": "7dbe3674-1f96-412d-e619-a89ec659598e"
      },
      "cell_type": "code",
      "source": [
        "y = np.array([0,1,2])\n",
        "y = np.reshape(y, (1, len(y)))\n",
        "print(y)\n",
        "print(y.shape)"
      ],
      "execution_count": 51,
      "outputs": [
        {
          "output_type": "stream",
          "text": [
            "[[0 1 2]]\n",
            "(1, 3)\n"
          ],
          "name": "stdout"
        }
      ]
    },
    {
      "metadata": {
        "id": "W_TaqSkuwfgd",
        "colab_type": "code",
        "colab": {
          "base_uri": "https://localhost:8080/",
          "height": 84
        },
        "outputId": "b00b99c1-74d4-4886-b655-71f9e6508a8c"
      },
      "cell_type": "code",
      "source": [
        "print(x + y)"
      ],
      "execution_count": 52,
      "outputs": [
        {
          "output_type": "stream",
          "text": [
            "[[ 0  1  2]\n",
            " [10 11 12]\n",
            " [20 21 22]\n",
            " [30 31 32]]\n"
          ],
          "name": "stdout"
        }
      ]
    },
    {
      "metadata": {
        "id": "CaAQ__nQ2l6_",
        "colab_type": "code",
        "colab": {}
      },
      "cell_type": "code",
      "source": [
        ""
      ],
      "execution_count": 0,
      "outputs": []
    },
    {
      "metadata": {
        "id": "h5wIy_3E0i_U",
        "colab_type": "text"
      },
      "cell_type": "markdown",
      "source": [
        "General rule\n",
        "\n",
        "*   (m,n) + (1,n) => (m,n)\n",
        "\n",
        "*   (m,n) - (1,n) => (m,n)\n",
        "\n",
        "*   (m,n)  * (1,n) => (m,n)\n",
        "*   (m,n) / (1,n) => (m,n)\n",
        "\n",
        "\n",
        "> (m,1) + R(scalar) = (m,1)\n"
      ]
    },
    {
      "metadata": {
        "id": "6RUAA7aK1xcP",
        "colab_type": "text"
      },
      "cell_type": "markdown",
      "source": [
        "Introduction to Variable and Autograd"
      ]
    },
    {
      "metadata": {
        "id": "pTbocK5W0EHG",
        "colab_type": "text"
      },
      "cell_type": "markdown",
      "source": [
        "**Dependencies for PyTorch**"
      ]
    },
    {
      "metadata": {
        "id": "UTCh1eUOu-Ax",
        "colab_type": "code",
        "colab": {}
      },
      "cell_type": "code",
      "source": [
        "# import\n",
        "import torch\n",
        "from torch import FloatTensor"
      ],
      "execution_count": 0,
      "outputs": []
    },
    {
      "metadata": {
        "id": "2rNY_Lj3YIcC",
        "colab_type": "text"
      },
      "cell_type": "markdown",
      "source": [
        "**Variables**"
      ]
    },
    {
      "metadata": {
        "id": "BkuUXgYzYQoi",
        "colab_type": "text"
      },
      "cell_type": "markdown",
      "source": [
        "\n",
        "\n",
        "*     A Variable wraps a Tensor.\n",
        " \n",
        "*  Allow accumulation of gradients.\n",
        "\n",
        "\n",
        "\n",
        "\n",
        "\n",
        "\n"
      ]
    },
    {
      "metadata": {
        "id": "QkhxF2BYYPXy",
        "colab_type": "code",
        "colab": {}
      },
      "cell_type": "code",
      "source": [
        "# import Variable class\n",
        "from torch.autograd import Variable"
      ],
      "execution_count": 0,
      "outputs": []
    },
    {
      "metadata": {
        "id": "RPF7r4FwYPsE",
        "colab_type": "code",
        "colab": {
          "base_uri": "https://localhost:8080/",
          "height": 101
        },
        "outputId": "6b38dbb4-3e09-4db6-a481-f09bceb5795c"
      },
      "cell_type": "code",
      "source": [
        "a = Variable(torch.ones(2,2), requires_grad=True) #Differeniatible\n",
        "#Task: print Variable\n",
        "print(a)"
      ],
      "execution_count": 55,
      "outputs": [
        {
          "output_type": "stream",
          "text": [
            "Variable containing:\n",
            " 1  1\n",
            " 1  1\n",
            "[torch.FloatTensor of size 2x2]\n",
            "\n"
          ],
          "name": "stdout"
        }
      ]
    },
    {
      "metadata": {
        "id": "Qe2WQ9LCYP7j",
        "colab_type": "code",
        "colab": {
          "base_uri": "https://localhost:8080/",
          "height": 84
        },
        "outputId": "d7e1a48d-ae0c-4689-822e-6d7b141e6aca"
      },
      "cell_type": "code",
      "source": [
        "# The tensor is not a variable\n",
        "torch.ones(2,2)"
      ],
      "execution_count": 56,
      "outputs": [
        {
          "output_type": "execute_result",
          "data": {
            "text/plain": [
              "\n",
              " 1  1\n",
              " 1  1\n",
              "[torch.FloatTensor of size 2x2]"
            ]
          },
          "metadata": {
            "tags": []
          },
          "execution_count": 56
        }
      ]
    },
    {
      "metadata": {
        "id": "IpKxgl6RaAa_",
        "colab_type": "code",
        "colab": {}
      },
      "cell_type": "code",
      "source": [
        "# create another Variable \"b\" and perform mathematical operations\n",
        "#add, multiply then up"
      ],
      "execution_count": 0,
      "outputs": []
    },
    {
      "metadata": {
        "id": "z3dtS7qAaAfy",
        "colab_type": "code",
        "colab": {}
      },
      "cell_type": "code",
      "source": [
        ""
      ],
      "execution_count": 0,
      "outputs": []
    },
    {
      "metadata": {
        "id": "lbVjW9QQaAkC",
        "colab_type": "code",
        "colab": {}
      },
      "cell_type": "code",
      "source": [
        ""
      ],
      "execution_count": 0,
      "outputs": []
    },
    {
      "metadata": {
        "id": "QkzVHzuiaAok",
        "colab_type": "code",
        "colab": {}
      },
      "cell_type": "code",
      "source": [
        ""
      ],
      "execution_count": 0,
      "outputs": []
    },
    {
      "metadata": {
        "id": "8bCRLqGT3a4y",
        "colab_type": "text"
      },
      "cell_type": "markdown",
      "source": [
        "Check slides for computational graph image."
      ]
    },
    {
      "metadata": {
        "id": "4Z3NVJlO0ijL",
        "colab_type": "text"
      },
      "cell_type": "markdown",
      "source": [
        "### **Define the leaf nodes**"
      ]
    },
    {
      "metadata": {
        "id": "QqmXMc6bvM0c",
        "colab_type": "code",
        "colab": {
          "base_uri": "https://localhost:8080/",
          "height": 151
        },
        "outputId": "151e738c-307e-4eeb-dd55-031ef9211696"
      },
      "cell_type": "code",
      "source": [
        "# Define the leaf nodes\n",
        "x0 = Variable(FloatTensor([-1]))\n",
        "x1 = Variable(FloatTensor([-2]))\n",
        "print(x0)\n",
        "print(x1)"
      ],
      "execution_count": 58,
      "outputs": [
        {
          "output_type": "stream",
          "text": [
            "Variable containing:\n",
            "-1\n",
            "[torch.FloatTensor of size 1]\n",
            "\n",
            "Variable containing:\n",
            "-2\n",
            "[torch.FloatTensor of size 1]\n",
            "\n"
          ],
          "name": "stdout"
        }
      ]
    },
    {
      "metadata": {
        "id": "XGA3cZxn0xTY",
        "colab_type": "text"
      },
      "cell_type": "markdown",
      "source": [
        "**Initialize the weights**"
      ]
    },
    {
      "metadata": {
        "id": "vj-Z2-atLi0F",
        "colab_type": "text"
      },
      "cell_type": "markdown",
      "source": [
        "We must set the **requires_grad attribute to True**, otherwise, these Variables won’t be included in the computation graph, and no gradients would be computed for them (and other variables, that depend on these particular variables for gradient flow)."
      ]
    },
    {
      "metadata": {
        "id": "vfCW5QW_64ZF",
        "colab_type": "code",
        "colab": {}
      },
      "cell_type": "code",
      "source": [
        "weights = [Variable(FloatTensor([i]), requires_grad=True) for i in (2, -3, -3)]"
      ],
      "execution_count": 0,
      "outputs": []
    },
    {
      "metadata": {
        "id": "6AWEJNc-67Tl",
        "colab_type": "code",
        "colab": {
          "base_uri": "https://localhost:8080/",
          "height": 218
        },
        "outputId": "25c08662-0025-4d3f-dc8b-e681a2725b22"
      },
      "cell_type": "code",
      "source": [
        "for i in weights: print(i)"
      ],
      "execution_count": 60,
      "outputs": [
        {
          "output_type": "stream",
          "text": [
            "Variable containing:\n",
            " 2\n",
            "[torch.FloatTensor of size 1]\n",
            "\n",
            "Variable containing:\n",
            "-3\n",
            "[torch.FloatTensor of size 1]\n",
            "\n",
            "Variable containing:\n",
            "-3\n",
            "[torch.FloatTensor of size 1]\n",
            "\n"
          ],
          "name": "stdout"
        }
      ]
    },
    {
      "metadata": {
        "id": "efeq1W7z1KSt",
        "colab_type": "text"
      },
      "cell_type": "markdown",
      "source": [
        "**Unpack the weights for nicer assignment**"
      ]
    },
    {
      "metadata": {
        "id": "vqTdqyOZ6-mZ",
        "colab_type": "code",
        "colab": {
          "base_uri": "https://localhost:8080/",
          "height": 218
        },
        "outputId": "bcc26cbd-17a8-4462-bbf4-588729c18d38"
      },
      "cell_type": "code",
      "source": [
        "\n",
        "w0, w1, w2 = weights\n",
        "print(w0)\n",
        "print(w1)\n",
        "print(w2)"
      ],
      "execution_count": 61,
      "outputs": [
        {
          "output_type": "stream",
          "text": [
            "Variable containing:\n",
            " 2\n",
            "[torch.FloatTensor of size 1]\n",
            "\n",
            "Variable containing:\n",
            "-3\n",
            "[torch.FloatTensor of size 1]\n",
            "\n",
            "Variable containing:\n",
            "-3\n",
            "[torch.FloatTensor of size 1]\n",
            "\n"
          ],
          "name": "stdout"
        }
      ]
    },
    {
      "metadata": {
        "id": "gWWdiyXE7BNK",
        "colab_type": "code",
        "colab": {
          "base_uri": "https://localhost:8080/",
          "height": 67
        },
        "outputId": "aa12b25f-61fa-4c99-8647-6132074711d8"
      },
      "cell_type": "code",
      "source": [
        "for i in weights: print(i.requires_grad)"
      ],
      "execution_count": 62,
      "outputs": [
        {
          "output_type": "stream",
          "text": [
            "True\n",
            "True\n",
            "True\n"
          ],
          "name": "stdout"
        }
      ]
    },
    {
      "metadata": {
        "id": "Dmu0u1B77HdD",
        "colab_type": "code",
        "colab": {}
      },
      "cell_type": "code",
      "source": [
        "a = w0 * x0\n",
        "b = w1 * x1\n",
        "c = a + b\n",
        "d = c + w2\n",
        "e = d * (-1)\n",
        "f = torch.exp(e)\n",
        "g = f + 1\n",
        "h = 1 / g"
      ],
      "execution_count": 0,
      "outputs": []
    },
    {
      "metadata": {
        "id": "9MzpujYc7OuQ",
        "colab_type": "code",
        "colab": {
          "base_uri": "https://localhost:8080/",
          "height": 554
        },
        "outputId": "85a5e56a-7864-4fc8-9292-89f16950d131"
      },
      "cell_type": "code",
      "source": [
        "print(a)\n",
        "print(b)\n",
        "print(c)\n",
        "print(d)\n",
        "print(e)\n",
        "print(f)\n",
        "print(g)\n",
        "print(h)"
      ],
      "execution_count": 64,
      "outputs": [
        {
          "output_type": "stream",
          "text": [
            "Variable containing:\n",
            "-2\n",
            "[torch.FloatTensor of size 1]\n",
            "\n",
            "Variable containing:\n",
            " 6\n",
            "[torch.FloatTensor of size 1]\n",
            "\n",
            "Variable containing:\n",
            " 4\n",
            "[torch.FloatTensor of size 1]\n",
            "\n",
            "Variable containing:\n",
            " 1\n",
            "[torch.FloatTensor of size 1]\n",
            "\n",
            "Variable containing:\n",
            "-1\n",
            "[torch.FloatTensor of size 1]\n",
            "\n",
            "Variable containing:\n",
            " 0.3679\n",
            "[torch.FloatTensor of size 1]\n",
            "\n",
            "Variable containing:\n",
            " 1.3679\n",
            "[torch.FloatTensor of size 1]\n",
            "\n",
            "Variable containing:\n",
            " 0.7311\n",
            "[torch.FloatTensor of size 1]\n",
            "\n"
          ],
          "name": "stdout"
        }
      ]
    },
    {
      "metadata": {
        "id": "tybHYgL2QaGK",
        "colab_type": "text"
      },
      "cell_type": "markdown",
      "source": [
        "Well, so far the variable objects are the nodes of the graph. There is a function object(grad_fn) of each variable that forms the node of the graph."
      ]
    },
    {
      "metadata": {
        "id": "hRsIFMXKPqGD",
        "colab_type": "code",
        "colab": {
          "base_uri": "https://localhost:8080/",
          "height": 151
        },
        "outputId": "e7095799-6920-458e-dd38-165bd0182d1a"
      },
      "cell_type": "code",
      "source": [
        "print(a.grad_fn)\n",
        "print(b.grad_fn)\n",
        "print(c.grad_fn)\n",
        "print(d.grad_fn)\n",
        "print(e.grad_fn)\n",
        "print(f.grad_fn)\n",
        "print(g.grad_fn)\n",
        "print(h.grad_fn)"
      ],
      "execution_count": 66,
      "outputs": [
        {
          "output_type": "stream",
          "text": [
            "<MulBackward1 object at 0x7f487d2f5278>\n",
            "<MulBackward1 object at 0x7f487d2f5240>\n",
            "<AddBackward1 object at 0x7f487d2f2320>\n",
            "<AddBackward1 object at 0x7f487d2f5240>\n",
            "<MulBackward0 object at 0x7f487d2f2320>\n",
            "<ExpBackward object at 0x7f487d2f5240>\n",
            "<AddBackward0 object at 0x7f487d2f2320>\n",
            "<MulBackward0 object at 0x7f487d2f5240>\n"
          ],
          "name": "stdout"
        }
      ]
    },
    {
      "metadata": {
        "id": "jIP_X73N7URp",
        "colab_type": "code",
        "colab": {}
      },
      "cell_type": "code",
      "source": [
        "h.backward()"
      ],
      "execution_count": 0,
      "outputs": []
    },
    {
      "metadata": {
        "id": "UPqOEfNs7Y1_",
        "colab_type": "code",
        "colab": {
          "base_uri": "https://localhost:8080/",
          "height": 67
        },
        "outputId": "34ebe761-7519-4927-aab7-c74999300e28"
      },
      "cell_type": "code",
      "source": [
        "for index, weight in enumerate(weights, start=0):\n",
        "    gradient, *_ = weight.grad.data\n",
        "    print(f\"Gradient of w{index} w.r.t to L: {gradient: .1f}\") #round up"
      ],
      "execution_count": 68,
      "outputs": [
        {
          "output_type": "stream",
          "text": [
            "Gradient of w0 w.r.t to L: -0.2\n",
            "Gradient of w1 w.r.t to L: -0.4\n",
            "Gradient of w2 w.r.t to L:  0.2\n"
          ],
          "name": "stdout"
        }
      ]
    },
    {
      "metadata": {
        "id": "nfSIRz7FvXFF",
        "colab_type": "code",
        "colab": {}
      },
      "cell_type": "code",
      "source": [
        ""
      ],
      "execution_count": 0,
      "outputs": []
    }
  ]
}